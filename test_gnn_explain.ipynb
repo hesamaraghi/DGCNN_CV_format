{
 "cells": [
  {
   "cell_type": "code",
   "execution_count": null,
   "metadata": {},
   "outputs": [],
   "source": [
    "from torch_geometric.data import Data\n",
    "from torch_geometric.explain import Explainer, GNNExplainer\n",
    "\n",
    "data = Data(...)  # A homogeneous graph data object.\n",
    "\n",
    "explainer = Explainer(\n",
    "    model=model,\n",
    "    algorithm=GNNExplainer(epochs=200),\n",
    "    explanation_type='model',\n",
    "    node_mask_type='attributes',\n",
    "    edge_mask_type='object',\n",
    "    model_config=dict(\n",
    "        mode='multiclass_classification',\n",
    "        task_level='node',\n",
    "        return_type='log_probs',  # Model returns log probabilities.\n",
    "    ),\n",
    ")\n",
    "\n",
    "# Generate explanation for the node at index `10`:\n",
    "explanation = explainer(data.x, data.edge_index, index=10)\n",
    "print(explanation.edge_mask)\n",
    "print(explanation.node_mask)"
   ]
  }
 ],
 "metadata": {
  "kernelspec": {
   "display_name": "base",
   "language": "python",
   "name": "python3"
  },
  "language_info": {
   "codemirror_mode": {
    "name": "ipython",
    "version": 3
   },
   "file_extension": ".py",
   "mimetype": "text/x-python",
   "name": "python",
   "nbconvert_exporter": "python",
   "pygments_lexer": "ipython3",
   "version": "3.10.8"
  }
 },
 "nbformat": 4,
 "nbformat_minor": 2
}
