{
 "cells": [
  {
   "cell_type": "code",
   "execution_count": 1,
   "metadata": {},
   "outputs": [],
   "source": [
    "from omegaconf import OmegaConf\n",
    "import numpy as np\n",
    "import os\n",
    "import re\n",
    "import os.path as osp\n",
    "import torch\n",
    "import pytorch_lightning as pl\n",
    "from tqdm import tqdm\n",
    "from omegaconf import OmegaConf\n",
    "import wandb\n",
    "from pytorch_lightning.loggers import WandbLogger\n",
    "\n",
    "import model_factory\n",
    "from graph_data_module import GraphDataModule\n",
    "from train import Runner\n",
    "from datasets.dataset_factory import create_dataset\n",
    "from torch_geometric.loader import DataLoader\n",
    "import matplotlib.pyplot as plt\n",
    "import torchvision\n",
    "import torchmetrics\n",
    "from sklearn.metrics import ConfusionMatrixDisplay"
   ]
  },
  {
   "cell_type": "code",
   "execution_count": 2,
   "metadata": {},
   "outputs": [],
   "source": [
    "entity = \"haraghi\"\n",
    "project = \"DGCNN\""
   ]
  },
  {
   "cell_type": "code",
   "execution_count": 3,
   "metadata": {},
   "outputs": [
    {
     "name": "stderr",
     "output_type": "stream",
     "text": [
      "\u001b[34m\u001b[1mwandb\u001b[0m:   1 of 1 files downloaded.  \n"
     ]
    }
   ],
   "source": [
    "run_id = \"di9222jw\"\n",
    "artifact_dir = WandbLogger.download_artifact(artifact=f\"haraghi/DGCNN/model-{run_id}:best\")"
   ]
  },
  {
   "cell_type": "code",
   "execution_count": 4,
   "metadata": {},
   "outputs": [
    {
     "name": "stdout",
     "output_type": "stream",
     "text": [
      "EST_NCARS_no_aug_MobileNet_not_pretrained.yaml\n"
     ]
    }
   ],
   "source": [
    "method = \"EST\"\n",
    "dataset = \"NCARS\"\n",
    "specific_item = \"MobileNet\"\n",
    "\n",
    "res = [f for f in os.listdir('cfg_folder') if method in f and dataset in f and specific_item in f]\n",
    "for f in res:\n",
    "    print(f)\n"
   ]
  },
  {
   "cell_type": "code",
   "execution_count": 5,
   "metadata": {},
   "outputs": [
    {
     "name": "stdout",
     "output_type": "stream",
     "text": [
      "di9222jw\n"
     ]
    }
   ],
   "source": [
    "api = wandb.Api()\n",
    "if run_id is None:\n",
    "    runs = api.runs(\n",
    "        path=osp.join(entity,project),\n",
    "        filters={\"config.wandb.experiment_name\": {\"$regex\": f\"^.*{method}.*{sampling_number}.*$\"}},\n",
    "        # filters={\"config.wandb.experiment_name\": {\"$regex\": \"^.*EST-aug 20000.*$\"}}\n",
    "    )\n",
    "    print([l.id for l in runs])\n",
    "    run_id = runs[0].id\n",
    "    \n",
    "print(run_id)"
   ]
  },
  {
   "cell_type": "code",
   "execution_count": 6,
   "metadata": {},
   "outputs": [],
   "source": [
    "config = api.run(osp.join(entity, project, run_id)).config\n",
    "cfg = OmegaConf.create(config)\n",
    "cfg_file = OmegaConf.load(cfg.cfg_path)\n",
    "# cfg = OmegaConf.merge(cfg_file, cfg)\n",
    "# print(OmegaConf.to_yaml(cfg))"
   ]
  },
  {
   "cell_type": "code",
   "execution_count": 12,
   "metadata": {},
   "outputs": [],
   "source": [
    "# run = wandb.init()\n",
    "# checkpoint_reference = osp.join(entity, project, \"model-\" + run_id+\":best\")\n",
    "# artifact = run.use_artifact(checkpoint_reference, type='model')\n",
    "# artifact_dir = artifact.download()"
   ]
  },
  {
   "cell_type": "code",
   "execution_count": 7,
   "metadata": {},
   "outputs": [],
   "source": [
    "def recursive_dict_compare(all_cfg, other_cfg):\n",
    "    \"\"\"\n",
    "    Recursively compare two dictionaries and return their differences.\n",
    "    \"\"\"\n",
    "    # Initialize the result dictionary\n",
    "    diff = {}\n",
    "\n",
    "    # Check for keys in dict1 that are not in dict2\n",
    "    for key in other_cfg:\n",
    "        if key not in all_cfg:\n",
    "            diff[key] = other_cfg[key]\n",
    "        else:\n",
    "            # If the values are dictionaries, recursively compare them\n",
    "            if isinstance(all_cfg[key], dict) and isinstance(other_cfg[key], dict):\n",
    "                nested_diff = recursive_dict_compare(all_cfg[key], other_cfg[key])\n",
    "                if nested_diff:\n",
    "                    diff[key] = nested_diff\n",
    "            # Otherwise, compare the values directly\n",
    "            elif all_cfg[key] != other_cfg[key]:\n",
    "                if not(key == \"num_classes\" and other_cfg[key] is None and all_cfg[key] is not None):\n",
    "                    diff[key] = other_cfg[key]\n",
    "                    \n",
    "\n",
    "    return diff\n",
    "\n",
    "# Example dictionaries\n",
    "dict1 = {\n",
    "    \"name\": \"John\",\n",
    "    \"age\": 30,\n",
    "    \"address\": {\n",
    "        \"street\": \"123 Main St\",\n",
    "        \"city\": \"Anytown\",\n",
    "    },\n",
    "}\n",
    "\n",
    "dict2 = {\n",
    "    \"name\": \"Jane\",\n",
    "    \"age\": 30,\n",
    "    \"address\": {\n",
    "        \"street\": \"456 Elm St\",\n",
    "        \"city\": \"Othertown\",\n",
    "    },\n",
    "}\n",
    "\n",
    "# Compare the dictionaries recursively\n",
    "differences = recursive_dict_compare(dict1, dict2)\n",
    "\n",
    "# Print the differences\n",
    "import pprint\n",
    "# pprint.pprint(differences)\n"
   ]
  },
  {
   "cell_type": "code",
   "execution_count": 8,
   "metadata": {},
   "outputs": [
    {
     "name": "stdout",
     "output_type": "stream",
     "text": [
      "{}\n"
     ]
    }
   ],
   "source": [
    "print(recursive_dict_compare(OmegaConf.to_object(cfg),OmegaConf.to_object(cfg_file)))"
   ]
  },
  {
   "cell_type": "code",
   "execution_count": 9,
   "metadata": {},
   "outputs": [],
   "source": [
    "def percentile(t, q):\n",
    "    B, C, H, W = t.shape\n",
    "    k = 1 + round(.01 * float(q) * (C * H * W - 1))\n",
    "    result = t.view(B, -1).kthvalue(k).values\n",
    "    return result[:,None,None,None]\n",
    "\n",
    "def create_image(representation):\n",
    "    B, C, H, W = representation.shape\n",
    "    representation = representation.view(B, 3, C // 3, H, W).sum(2)\n",
    "\n",
    "    # do robust min max norm\n",
    "    representation = representation.detach().cpu()\n",
    "    robust_max_vals = percentile(representation, 99)\n",
    "    robust_min_vals = percentile(representation, 1)\n",
    "\n",
    "    representation = (representation - robust_min_vals)/(robust_max_vals - robust_min_vals)\n",
    "    representation = torch.clamp(255*representation, 0, 255).byte()\n",
    "\n",
    "    representation = torchvision.utils.make_grid(representation)\n",
    "\n",
    "    return representation"
   ]
  },
  {
   "cell_type": "code",
   "execution_count": 10,
   "metadata": {},
   "outputs": [
    {
     "name": "stderr",
     "output_type": "stream",
     "text": [
      "Global seed set to 0\n"
     ]
    }
   ],
   "source": [
    "# Seed everything. Note that this does not make training entirely\n",
    "# deterministic.\n",
    "pl.seed_everything(cfg.seed, workers=True)\n",
    "\n",
    "\n",
    "# Create datasets using factory pattern\n",
    "gdm = GraphDataModule(cfg)\n",
    "cfg.dataset.num_classes = gdm.num_classes"
   ]
  },
  {
   "cell_type": "code",
   "execution_count": null,
   "metadata": {},
   "outputs": [],
   "source": [
    "# test_file_list = []\n",
    "# for data in gdm.test_dataloader():\n",
    "#     test_file_list.extend(data.file_id)"
   ]
  },
  {
   "cell_type": "code",
   "execution_count": null,
   "metadata": {},
   "outputs": [],
   "source": [
    "# train_file_list = []\n",
    "# for data in gdm.train_dataloader():\n",
    "#     train_file_list.extend(data.file_id)"
   ]
  },
  {
   "cell_type": "code",
   "execution_count": null,
   "metadata": {},
   "outputs": [],
   "source": [
    "# val_file_list = []\n",
    "# for data in gdm.val_dataloader():\n",
    "#     val_file_list.extend(data.file_id)"
   ]
  },
  {
   "cell_type": "code",
   "execution_count": null,
   "metadata": {},
   "outputs": [],
   "source": [
    "# print(len(train_file_list))\n",
    "# print(len(test_file_list))\n",
    "# print(len(val_file_list))"
   ]
  },
  {
   "cell_type": "code",
   "execution_count": null,
   "metadata": {},
   "outputs": [],
   "source": [
    "# print(set(test_file_list).intersection(set(val_file_list)))\n",
    "# print(set(test_file_list).intersection(set(train_file_list)))\n",
    "# print(set(val_file_list).intersection(set(train_file_list)))"
   ]
  },
  {
   "cell_type": "code",
   "execution_count": 11,
   "metadata": {},
   "outputs": [],
   "source": [
    "model = model_factory.factory(cfg)\n",
    "\n",
    "# Tie it all together with PyTorch Lightning: Runner contains the model,\n",
    "# optimizer, loss function and metrics; Trainer executes the\n",
    "# training/validation loops and model checkpointing.\n",
    " \n",
    "runner = Runner.load_from_checkpoint(osp.join(artifact_dir,\"model.ckpt\"), cfg=cfg, model=model)"
   ]
  },
  {
   "cell_type": "code",
   "execution_count": 12,
   "metadata": {},
   "outputs": [
    {
     "name": "stderr",
     "output_type": "stream",
     "text": [
      "/tudelft.net/staff-bulk/ewi/insy/VisionLab/maraghi/envs/gpu-env/lib/python3.10/site-packages/lightning_fabric/plugins/environments/slurm.py:165: PossibleUserWarning: The `srun` command is available on your system but is not used. HINT: If your intention is to run Lightning on SLURM, prepend your python command with `srun` like so: srun python /tudelft.net/staff-bulk/ewi/insy/VisionLab/maraghi/e ...\n",
      "  rank_zero_warn(\n",
      "GPU available: True (cuda), used: True\n",
      "TPU available: False, using: 0 TPU cores\n",
      "IPU available: False, using: 0 IPUs\n",
      "HPU available: False, using: 0 HPUs\n",
      "/tudelft.net/staff-bulk/ewi/insy/VisionLab/maraghi/envs/gpu-env/lib/python3.10/site-packages/pytorch_lightning/trainer/connectors/logger_connector/logger_connector.py:67: UserWarning: Starting from v1.9.0, `tensorboardX` has been removed as a dependency of the `pytorch_lightning` package, due to potential conflicts with other packages in the ML ecosystem. For this reason, `logger=True` will use `CSVLogger` as the default logger, unless the `tensorboard` or `tensorboardX` packages are found. Please `pip install lightning[extra]` or one of them to enable TensorBoard support by default\n",
      "  warning_cache.warn(\n"
     ]
    }
   ],
   "source": [
    "trainer = pl.Trainer(\n",
    "    max_epochs=cfg.train.epochs,\n",
    "    enable_progress_bar=True,\n",
    "    # Use DDP training by default, even for CPU training\n",
    "    # strategy=\"ddp_notebook\",\n",
    "    devices=torch.cuda.device_count(),\n",
    "    accelerator=\"auto\"\n",
    ")"
   ]
  },
  {
   "cell_type": "code",
   "execution_count": 13,
   "metadata": {},
   "outputs": [
    {
     "name": "stderr",
     "output_type": "stream",
     "text": [
      "/tudelft.net/staff-bulk/ewi/insy/VisionLab/maraghi/envs/gpu-env/lib/python3.10/site-packages/lightning_fabric/plugins/environments/slurm.py:165: PossibleUserWarning: The `srun` command is available on your system but is not used. HINT: If your intention is to run Lightning on SLURM, prepend your python command with `srun` like so: srun python /tudelft.net/staff-bulk/ewi/insy/VisionLab/maraghi/e ...\n",
      "  rank_zero_warn(\n",
      "LOCAL_RANK: 0 - CUDA_VISIBLE_DEVICES: [0]\n"
     ]
    }
   ],
   "source": [
    "trainer.test(runner, datamodule=gdm)"
   ]
  },
  {
   "cell_type": "code",
   "execution_count": 16,
   "metadata": {},
   "outputs": [],
   "source": [
    "dl = DataLoader(\n",
    "            create_dataset(\n",
    "                dataset_path = gdm.dataset_path,\n",
    "                dataset_name  = gdm.dataset_name,\n",
    "                dataset_type = 'test',\n",
    "                transform = gdm.transform_dict['test'],\n",
    "                num_workers=gdm.num_workers\n",
    "            ),\n",
    "            batch_size=16,\n",
    "            shuffle=False,\n",
    "            num_workers=gdm.num_workers,\n",
    "        )\n",
    "ds = create_dataset(\n",
    "        dataset_path = gdm.dataset_path,\n",
    "        dataset_name  = gdm.dataset_name,\n",
    "        dataset_type = 'test',\n",
    "        transform = gdm.transform_dict['test'],\n",
    "        num_workers=gdm.num_workers\n",
    "    )"
   ]
  },
  {
   "cell_type": "code",
   "execution_count": 18,
   "metadata": {},
   "outputs": [
    {
     "name": "stderr",
     "output_type": "stream",
     "text": [
      "100%|██████████| 87/87 [00:30<00:00,  2.87it/s]"
     ]
    },
    {
     "name": "stdout",
     "output_type": "stream",
     "text": [
      "tensor(0.7698, device='cuda:0')\n"
     ]
    },
    {
     "name": "stderr",
     "output_type": "stream",
     "text": [
      "\n"
     ]
    }
   ],
   "source": [
    "torch.cuda.empty_cache()\n",
    "confusion_matrix = torchmetrics.ConfusionMatrix(task='multiclass', num_classes=cfg.dataset.num_classes)\n",
    "device = torch.device(\"cuda\" if torch.cuda.is_available() else \"cpu\")\n",
    "model = runner.model.to(device)\n",
    "model.eval()\n",
    "\n",
    "correct = 0\n",
    "total = 0\n",
    "\n",
    "y=torch.tensor([],device=device)\n",
    "y_hat=torch.tensor([],device=device)\n",
    "preds = []\n",
    "targets = []\n",
    "files = []\n",
    "with torch.no_grad():\n",
    "    for data in tqdm(gdm.test_dataloader()):\n",
    "        files.extend(data.file_id)\n",
    "        targets.append(data.y)\n",
    "        data = data.to(device)\n",
    "        y = torch.cat((y,data.y))\n",
    "        out = model(data)\n",
    "        preds.append(out.clone().detach().cpu())\n",
    "        label = torch.argmax(out, dim=1) \n",
    "        y_hat = torch.cat((y_hat,label))\n",
    "        correct += torch.sum(label == data.y)\n",
    "        total += data.y.shape[0]\n",
    "print(correct/total)   \n",
    "y = y.clone().detach().cpu().numpy()\n",
    "y_hat = y_hat.clone().detach().cpu().numpy() "
   ]
  },
  {
   "cell_type": "code",
   "execution_count": 19,
   "metadata": {},
   "outputs": [
    {
     "data": {
      "image/png": "[encoded data removed]",
      "text/plain": [
       "<Figure size 1600x1400 with 2 Axes>"
      ]
     },
     "metadata": {},
     "output_type": "display_data"
    }
   ],
   "source": [
    "preds_ = torch.cat(preds,dim=0) #.permute(0,2,1)\n",
    "targets_ = torch.cat(targets,dim=0)\n",
    "metrics = torchmetrics.classification.MulticlassConfusionMatrix(num_classes=cfg.dataset.num_classes) \n",
    "metrics.update(preds_, targets_)\n",
    "confusion_matrix_computed = metrics.compute().detach().cpu().numpy().astype(int)\n",
    "disp = ConfusionMatrixDisplay(confusion_matrix=confusion_matrix_computed, display_labels = [f'{i}:{c}' for i,c in enumerate(ds.categories)])\n",
    "fig, axs = plt.subplots(1, 1, figsize=(16,14))\n",
    "disp.plot(ax=axs)\n",
    "plt.show()"
   ]
  },
  {
   "cell_type": "code",
   "execution_count": 20,
   "metadata": {},
   "outputs": [
    {
     "name": "stdout",
     "output_type": "stream",
     "text": [
      "The 1th largest off-diagonal element is 1310 at (1:cars -> 0:background)\n",
      "The 2th largest off-diagonal element is 671 at (0:background -> 1:cars)\n",
      "The 3th largest off-diagonal element is 0 at (1:cars -> 1:cars)\n",
      "The 4th largest off-diagonal element is 0 at (0:background -> 0:background)\n"
     ]
    },
    {
     "ename": "IndexError",
     "evalue": "index -5 is out of bounds for axis 0 with size 4",
     "output_type": "error",
     "traceback": [
      "\u001b[0;31m---------------------------------------------------------------------------\u001b[0m",
      "\u001b[0;31mIndexError\u001b[0m                                Traceback (most recent call last)",
      "Cell \u001b[0;32mIn[20], line 4\u001b[0m\n\u001b[1;32m      2\u001b[0m gg \u001b[39m=\u001b[39m  np\u001b[39m.\u001b[39munravel_index(np\u001b[39m.\u001b[39margsort(off_zero, axis\u001b[39m=\u001b[39m\u001b[39mNone\u001b[39;00m), off_zero\u001b[39m.\u001b[39mshape)\n\u001b[1;32m      3\u001b[0m \u001b[39mfor\u001b[39;00m i \u001b[39min\u001b[39;00m \u001b[39mrange\u001b[39m(\u001b[39m1\u001b[39m, \u001b[39m20\u001b[39m):\n\u001b[0;32m----> 4\u001b[0m     \u001b[39mprint\u001b[39m(\u001b[39mf\u001b[39m\u001b[39m'\u001b[39m\u001b[39mThe \u001b[39m\u001b[39m{\u001b[39;00mi\u001b[39m}\u001b[39;00m\u001b[39mth largest off-diagonal element is \u001b[39m\u001b[39m{\u001b[39;00moff_zero[gg[\u001b[39m0\u001b[39;49m][\u001b[39m-\u001b[39;49mi],\u001b[39m \u001b[39mgg[\u001b[39m1\u001b[39m][\u001b[39m-\u001b[39mi]]\u001b[39m}\u001b[39;00m\u001b[39m at (\u001b[39m\u001b[39m{\u001b[39;00mgg[\u001b[39m0\u001b[39m][\u001b[39m-\u001b[39mi]\u001b[39m}\u001b[39;00m\u001b[39m:\u001b[39m\u001b[39m{\u001b[39;00mds\u001b[39m.\u001b[39mcategories[gg[\u001b[39m0\u001b[39m][\u001b[39m-\u001b[39mi]]\u001b[39m}\u001b[39;00m\u001b[39m -> \u001b[39m\u001b[39m{\u001b[39;00mgg[\u001b[39m1\u001b[39m][\u001b[39m-\u001b[39mi]\u001b[39m}\u001b[39;00m\u001b[39m:\u001b[39m\u001b[39m{\u001b[39;00mds\u001b[39m.\u001b[39mcategories[gg[\u001b[39m1\u001b[39m][\u001b[39m-\u001b[39mi]]\u001b[39m}\u001b[39;00m\u001b[39m)\u001b[39m\u001b[39m'\u001b[39m)\n",
      "\u001b[0;31mIndexError\u001b[0m: index -5 is out of bounds for axis 0 with size 4"
     ]
    }
   ],
   "source": [
    "off_zero = confusion_matrix_computed - np.diag(np.diag(confusion_matrix_computed))\n",
    "gg =  np.unravel_index(np.argsort(off_zero, axis=None), off_zero.shape)\n",
    "for i in range(1, 20):\n",
    "    print(f'The {i}th largest off-diagonal element is {off_zero[gg[0][-i], gg[1][-i]]} at ({gg[0][-i]}:{ds.categories[gg[0][-i]]} -> {gg[1][-i]}:{ds.categories[gg[1][-i]]})')"
   ]
  },
  {
   "cell_type": "code",
   "execution_count": 21,
   "metadata": {},
   "outputs": [
    {
     "data": {
      "image/png": "[encoded data removed]",
      "text/plain": [
       "<Figure size 1600x1400 with 2 Axes>"
      ]
     },
     "metadata": {},
     "output_type": "display_data"
    }
   ],
   "source": [
    "err_mat = np.diag(np.sum(off_zero,axis=1)) #+ np.diag(np.sum(off_zero,axis=0)) \n",
    "disp = ConfusionMatrixDisplay(confusion_matrix=err_mat, display_labels = [f'{i}:{c}' for i,c in enumerate(ds.categories)])\n",
    "fig, axs = plt.subplots(1, 1, figsize=(16,14))\n",
    "disp.plot(ax=axs)\n",
    "plt.show()"
   ]
  },
  {
   "cell_type": "code",
   "execution_count": 22,
   "metadata": {},
   "outputs": [],
   "source": [
    "for i in np.where((y == 18) & (y_hat == 11))[0]:\n",
    "    print(i,ds[i].label,ds[i].file_id)"
   ]
  },
  {
   "cell_type": "code",
   "execution_count": 24,
   "metadata": {},
   "outputs": [],
   "source": [
    "name2ind = {d.file_id: i  for i, d in enumerate(ds)}"
   ]
  },
  {
   "cell_type": "code",
   "execution_count": 25,
   "metadata": {},
   "outputs": [],
   "source": [
    "count = 0\n",
    "for n,v in name2ind.items():\n",
    "    if n.startswith('t_'):\n",
    "        print(n, v)\n",
    "        count += 1\n",
    "        if count == 20:\n",
    "            break"
   ]
  },
  {
   "cell_type": "code",
   "execution_count": 26,
   "metadata": {},
   "outputs": [
    {
     "name": "stderr",
     "output_type": "stream",
     "text": [
      "100%|██████████| 1000/1000 [00:14<00:00, 70.04it/s]"
     ]
    },
    {
     "name": "stdout",
     "output_type": "stream",
     "text": [
      "obj_000126_td.dat\n",
      "tensor(1., device='cuda:0')\n",
      "['background']\n"
     ]
    },
    {
     "name": "stderr",
     "output_type": "stream",
     "text": [
      "\n"
     ]
    }
   ],
   "source": [
    "idx = torch.randint(0, len(ds),(1,))\n",
    "idx = [19]\n",
    "# idx = (name2ind['l_0011.mat'],)\n",
    "correct = 0\n",
    "total = 0\n",
    "\n",
    "y1_hat = []\n",
    "model.eval()\n",
    "\n",
    "with torch.no_grad():\n",
    "    for ii in tqdm(range(1000)):\n",
    "        \n",
    "        data = ds[idx][0]\n",
    "        data.batch = torch.zeros(data.num_nodes, dtype=torch.long)\n",
    "        data = data.to(device)\n",
    "        \n",
    "        out = model(data)\n",
    "        label = torch.argmax(out, dim=1)\n",
    "        y1_hat.append(label.cpu().item())\n",
    "        correct += torch.sum(label == data.y)\n",
    "        total += data.y.shape[0]\n",
    "    # loss = runner.loss_fn(y_hat, y)\n",
    "print(data.file_id)    \n",
    "print(correct/total)\n",
    "print([ds.categories[int(c)] for c in np.unique(np.array(y1_hat))])"
   ]
  },
  {
   "cell_type": "code",
   "execution_count": 27,
   "metadata": {},
   "outputs": [
    {
     "data": {
      "text/plain": [
       "(array([], dtype=int64),)"
      ]
     },
     "execution_count": 27,
     "metadata": {},
     "output_type": "execute_result"
    }
   ],
   "source": [
    "np.where(np.array(y1_hat) !=  ds[idx][0].y.clone().detach().cpu().numpy())"
   ]
  },
  {
   "cell_type": "code",
   "execution_count": 28,
   "metadata": {},
   "outputs": [
    {
     "ename": "NameError",
     "evalue": "name 'create_image' is not defined",
     "output_type": "error",
     "traceback": [
      "\u001b[0;31m---------------------------------------------------------------------------\u001b[0m",
      "\u001b[0;31mNameError\u001b[0m                                 Traceback (most recent call last)",
      "Cell \u001b[0;32mIn[28], line 10\u001b[0m\n\u001b[1;32m      8\u001b[0m vox \u001b[39m=\u001b[39m model\u001b[39m.\u001b[39mquantization_layer\u001b[39m.\u001b[39mforward(data)\n\u001b[1;32m      9\u001b[0m label \u001b[39m=\u001b[39m torch\u001b[39m.\u001b[39margmax(out, dim\u001b[39m=\u001b[39m\u001b[39m1\u001b[39m)\n\u001b[0;32m---> 10\u001b[0m rep \u001b[39m=\u001b[39m create_image(vox)\n\u001b[1;32m     11\u001b[0m axs\u001b[39m.\u001b[39mimshow(rep\u001b[39m.\u001b[39mpermute(\u001b[39m1\u001b[39m,\u001b[39m2\u001b[39m,\u001b[39m0\u001b[39m))\n\u001b[1;32m     12\u001b[0m axs\u001b[39m.\u001b[39minvert_yaxis()\n",
      "\u001b[0;31mNameError\u001b[0m: name 'create_image' is not defined"
     ]
    },
    {
     "data": {
      "image/png": "[encoded data removed]",
      "text/plain": [
       "<Figure size 640x480 with 1 Axes>"
      ]
     },
     "metadata": {},
     "output_type": "display_data"
    }
   ],
   "source": [
    "\n",
    "idx = 31\n",
    "data = ds[idx]\n",
    "\n",
    "fig, axs = plt.subplots(1, 1)\n",
    "data.batch = torch.zeros(data.num_nodes, dtype=torch.long)\n",
    "data = data.to(device)\n",
    "out = model(data)\n",
    "vox = model.quantization_layer.forward(data)\n",
    "label = torch.argmax(out, dim=1)\n",
    "rep = create_image(vox)\n",
    "axs.imshow(rep.permute(1,2,0))\n",
    "axs.invert_yaxis()\n",
    "axs.set_title(f\"Predict: {label.item()}/{ds.categories[label.item()]}, file id: {data.label[0]}/{data.file_id}\")\n",
    "plt.show()"
   ]
  },
  {
   "cell_type": "code",
   "execution_count": null,
   "metadata": {},
   "outputs": [],
   "source": [
    "\n",
    "ys = [d.y.clone().detach().item() for d in ds]\n",
    "ys = np.array(ys)\n",
    "\n",
    "# count the number of happening of each value in the numpy array\n",
    "unique, counts = np.unique(ys, return_counts=True)\n",
    "\n",
    "print(counts)\n",
    "print(counts.sum())"
   ]
  },
  {
   "cell_type": "code",
   "execution_count": null,
   "metadata": {},
   "outputs": [],
   "source": [
    "n = 1\n",
    "m = 2\n",
    "with torch.no_grad():\n",
    "    for u in unique:\n",
    "        fig, axs = plt.subplots(n, m, figsize=(m*8,n*6))\n",
    "        if n == 1:\n",
    "            axs = axs[None,...]\n",
    "        if m == 1:\n",
    "            axs = axs[...,None]\n",
    "        print(u)\n",
    "\n",
    "        for i in range(n):\n",
    "            for j in range(m):\n",
    "                \n",
    "                indices = np.where(ys == u)[0]\n",
    "                idx = np.random.choice(indices)\n",
    "                \n",
    "                data = ds[idx]\n",
    "                \n",
    "                data.batch = torch.zeros(data.num_nodes, dtype=torch.long)\n",
    "                data = data.to(device)\n",
    "                out = model(data)\n",
    "                vox = model.quantization_layer.forward(data)\n",
    "                label = torch.argmax(out, dim=1)\n",
    "                if label != u:\n",
    "                    print(\"Wrong label\")\n",
    "                rep = create_image(vox)\n",
    "                axs[i,j].imshow(rep.permute(1,2,0))\n",
    "                # axs[i,j].invert_yaxis()\n",
    "                axs[i,j].set_title(f\"Predict: {label.item()}/{ds.categories[label.item()]}, file id: {data.label[0]}/{data.file_id}, idx: {idx}\")\n",
    "\n",
    "        plt.show()\n"
   ]
  },
  {
   "cell_type": "code",
   "execution_count": null,
   "metadata": {},
   "outputs": [],
   "source": [
    "ds.categories[0]"
   ]
  }
 ],
 "metadata": {
  "kernelspec": {
   "display_name": "base",
   "language": "python",
   "name": "python3"
  },
  "language_info": {
   "codemirror_mode": {
    "name": "ipython",
    "version": 3
   },
   "file_extension": ".py",
   "mimetype": "text/x-python",
   "name": "python",
   "nbconvert_exporter": "python",
   "pygments_lexer": "ipython3",
   "version": "3.10.12"
  },
  "orig_nbformat": 4
 },
 "nbformat": 4,
 "nbformat_minor": 2
}
