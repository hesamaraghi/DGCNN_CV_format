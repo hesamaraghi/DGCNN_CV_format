{
 "cells": [
  {
   "cell_type": "code",
   "execution_count": null,
   "metadata": {},
   "outputs": [],
   "source": [
    "import os\n",
    "import pandas as pd\n",
    "import numpy as np\n",
    "import matplotlib.pyplot as plt\n",
    "import seaborn as sns\n",
    "from datasets_torch_geometric.dataset_factory import create_dataset\n",
    "from omegaconf import OmegaConf\n",
    "import torch\n"
   ]
  },
  {
   "cell_type": "code",
   "execution_count": null,
   "metadata": {},
   "outputs": [],
   "source": [
    "dataset_names_paper = { \"DVSGESTURE_TONIC\": \"DVS-Gesture\",\n",
    "                        \"NASL\":             \"N-ASL\",\n",
    "                        \"NCALTECH101\":      \"N-Caltech101\",\n",
    "                        \"NCARS\":            \"N-Cars\",\n",
    "                        \"FAN1VS3\":          \"Fan1vs3\"}"
   ]
  },
  {
   "cell_type": "code",
   "execution_count": null,
   "metadata": {},
   "outputs": [],
   "source": [
    "folder_dir = os.path.join(\"images\", \"paper\", \"sparsity_vs_acc\")"
   ]
  },
  {
   "cell_type": "code",
   "execution_count": null,
   "metadata": {},
   "outputs": [],
   "source": [
    "config_files_dict = {d:os.path.join(\"cfg_folder\", f\"EST_{d}_wandb_sweep.yaml\") for d in dataset_names_paper.keys()}"
   ]
  },
  {
   "cell_type": "code",
   "execution_count": null,
   "metadata": {},
   "outputs": [],
   "source": [
    "try:\n",
    "    num_events = np.load(os.path.join(folder_dir, \"num_events.npy\"), allow_pickle=True).item()\n",
    "    print(\"File found. Loading it.\")\n",
    "except FileNotFoundError:\n",
    "    print(\"File not found. Start creating it now. Go drink a coffee, this will take a while.\")\n",
    "    num_events = {}\n",
    "    for dataset_name in dataset_names_paper.keys():\n",
    "        dataset = create_dataset(\n",
    "                        dataset_path = os.path.join(\"datasets_torch_geometric\", dataset_name, \"data\"),\n",
    "                        dataset_name  = dataset_name, \n",
    "                        dataset_type = 'all'\n",
    "                    )\n",
    "        num_events[dataset_name] = [d.num_nodes for d in dataset]\n",
    "        print(f\"{dataset_name} is finished. Number of samples: {len(dataset)}\")\n",
    "    np.save(\"num_events.npy\", num_events)"
   ]
  },
  {
   "cell_type": "code",
   "execution_count": null,
   "metadata": {},
   "outputs": [],
   "source": [
    "data_values = [num_events[key] for key in num_events]\n",
    "\n",
    "# Plotting the boxplot\n",
    "plt.figure(figsize=(10, 6))\n",
    "plt.boxplot(data_values, patch_artist=True, sym=\"b.\")\n",
    "plt.yscale('log')\n",
    "\n",
    "# Adding labels to x-axis\n",
    "plt.xticks(range(1, len(num_events) + 1), [dataset_names_paper[k] for k in num_events.keys()])\n",
    "\n",
    "# Adding title and labels\n",
    "# plt.title('Boxplot of Number of Events for Each Dataset')\n",
    "plt.xlabel('Dataset')\n",
    "plt.grid(axis='y',which='minor', linestyle='--', linewidth=0.5)\n",
    "plt.grid(axis='y',which='major', linestyle='-', linewidth=1)\n",
    "plt.ylabel('Number of Events')\n",
    "\n",
    "# Show plot\n",
    "\n",
    "plt.savefig(os.path.join(folder_dir, \"num_events_boxplot.png\"), format=\"png\")\n",
    "plt.show()\n",
    "\n"
   ]
  },
  {
   "cell_type": "code",
   "execution_count": null,
   "metadata": {},
   "outputs": [],
   "source": [
    "data_values =[]\n",
    "for key in num_events:\n",
    "    cfg = OmegaConf.load(config_files_dict[key])\n",
    "    num_pixels = np.prod(cfg.dataset.image_resolution)\n",
    "    data_values.append(num_events[key]/num_pixels)\n",
    "\n",
    "# Plotting the boxplot\n",
    "plt.figure(figsize=(10, 6))\n",
    "plt.boxplot(data_values, patch_artist=True, sym=\"b.\")\n",
    "plt.yscale('log')\n",
    "\n",
    "# Adding labels to x-axis\n",
    "plt.xticks(range(1, len(num_events) + 1), [dataset_names_paper[k] for k in num_events.keys()])\n",
    "\n",
    "# Adding title and labels\n",
    "plt.title('Boxplot of Number of Events for Each Dataset Normalized by Number of Pixels')\n",
    "plt.xlabel('Dataset')\n",
    "plt.grid(axis='y',which='minor', linestyle='--', linewidth=0.5)\n",
    "plt.grid(axis='y',which='major', linestyle='-', linewidth=1)\n",
    "plt.ylabel('Number of Events')\n",
    "\n",
    "# Show plot\n",
    "\n",
    "plt.savefig(os.path.join(folder_dir, \"num_events_normalized_boxplot.png\"), format=\"png\")\n",
    "plt.show()"
   ]
  },
  {
   "cell_type": "code",
   "execution_count": null,
   "metadata": {},
   "outputs": [],
   "source": [
    "for dataset_name, paper_name in dataset_names_paper.items():\n",
    "    print(f\"num. videos in {paper_name}: {len(num_events[dataset_name])}\")"
   ]
  },
  {
   "cell_type": "code",
   "execution_count": null,
   "metadata": {},
   "outputs": [],
   "source": [
    "what_dataset = \"FAN1VS3\"\n",
    "duration_of_videos = {}\n",
    "class_numbers = {}\n",
    "for dataset_name in dataset_names_paper.keys():\n",
    "    if dataset_name == what_dataset:\n",
    "        dataset = create_dataset(\n",
    "                        dataset_path = os.path.join(\"datasets_torch_geometric\", dataset_name, \"data\"),\n",
    "                        dataset_name  = dataset_name, \n",
    "                        dataset_type = 'all'\n",
    "                    )\n",
    "        duration_of_videos[dataset_name] = np.array([[torch.min(d.pos[:,2]),torch.max(d.pos[:,2])] for d in dataset])\n",
    "        class_numbers[dataset_name] = np.array([d.y for d in dataset])"
   ]
  },
  {
   "cell_type": "code",
   "execution_count": null,
   "metadata": {},
   "outputs": [],
   "source": [
    "np.max(duration_of_videos[what_dataset][:,1] - duration_of_videos[what_dataset][:,0])"
   ]
  },
  {
   "cell_type": "code",
   "execution_count": null,
   "metadata": {},
   "outputs": [],
   "source": [
    "dataset[0].label"
   ]
  },
  {
   "cell_type": "code",
   "execution_count": null,
   "metadata": {},
   "outputs": [],
   "source": [
    "(np.array(class_numbers[dataset_name])<0.5).sum()"
   ]
  }
 ],
 "metadata": {
  "kernelspec": {
   "display_name": "base",
   "language": "python",
   "name": "python3"
  },
  "language_info": {
   "codemirror_mode": {
    "name": "ipython",
    "version": 3
   },
   "file_extension": ".py",
   "mimetype": "text/x-python",
   "name": "python",
   "nbconvert_exporter": "python",
   "pygments_lexer": "ipython3",
   "version": "3.10.8"
  }
 },
 "nbformat": 4,
 "nbformat_minor": 2
}
